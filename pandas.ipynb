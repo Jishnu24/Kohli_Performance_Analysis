{
 "cells": [
  {
   "cell_type": "code",
   "execution_count": 1,
   "id": "a45df4ea-8821-4a7f-a053-c15ae653f14d",
   "metadata": {},
   "outputs": [],
   "source": [
    "import pandas as pd\n",
    "import numpy as np\n"
   ]
  },
  {
   "cell_type": "code",
   "execution_count": 16,
   "id": "5f8a8ce7-69f6-4c9a-98af-a95ac969ede0",
   "metadata": {},
   "outputs": [
    {
     "name": "stdout",
     "output_type": "stream",
     "text": [
      "   apples  oranges\n",
      "a       4        3\n",
      "b       3        7\n",
      "c       6        4\n",
      "d       1        1\n",
      "<class 'pandas.core.frame.DataFrame'>\n"
     ]
    }
   ],
   "source": [
    "data={\n",
    "    \"apples\": [4,3,6,1],\n",
    "    \"oranges\": [3,7,4,1]\n",
    "}\n",
    "\n",
    "index_titles = [\n",
    "    \"a\",\"b\",\"c\",\"d\"\n",
    "]\n",
    "\n",
    "df = pd.DataFrame(data,index = index_titles)\n",
    "\n",
    "print(df)\n",
    "print(type(df))"
   ]
  },
  {
   "cell_type": "code",
   "execution_count": 7,
   "id": "92e2d89c-e78b-4984-8ee8-09c4514064bf",
   "metadata": {},
   "outputs": [
    {
     "data": {
      "text/plain": [
       "apples      4\n",
       "orranges    3\n",
       "Name: a, dtype: int64"
      ]
     },
     "execution_count": 7,
     "metadata": {},
     "output_type": "execute_result"
    }
   ],
   "source": [
    "df.loc[\"a\"]   #catching a row"
   ]
  },
  {
   "cell_type": "code",
   "execution_count": 8,
   "id": "9d01d867-0f75-4822-8278-ab355610e445",
   "metadata": {},
   "outputs": [
    {
     "data": {
      "text/plain": [
       "a    4\n",
       "b    3\n",
       "c    6\n",
       "Name: apples, dtype: int64"
      ]
     },
     "execution_count": 8,
     "metadata": {},
     "output_type": "execute_result"
    }
   ],
   "source": [
    "df[\"apples\"].iloc[0:3]    #catching a column"
   ]
  },
  {
   "cell_type": "code",
   "execution_count": 17,
   "id": "9095b5d6-e04b-430a-976e-9dd9c06d301c",
   "metadata": {},
   "outputs": [
    {
     "data": {
      "text/plain": [
       "b    7\n",
       "c    4\n",
       "d    1\n",
       "Name: oranges, dtype: int64"
      ]
     },
     "execution_count": 17,
     "metadata": {},
     "output_type": "execute_result"
    }
   ],
   "source": [
    "df[\"oranges\"].iloc[1:]"
   ]
  },
  {
   "cell_type": "code",
   "execution_count": null,
   "id": "a8ed1615-c343-4741-a106-f95db442dacf",
   "metadata": {},
   "outputs": [],
   "source": []
  }
 ],
 "metadata": {
  "kernelspec": {
   "display_name": "Python 3 (ipykernel)",
   "language": "python",
   "name": "python3"
  },
  "language_info": {
   "codemirror_mode": {
    "name": "ipython",
    "version": 3
   },
   "file_extension": ".py",
   "mimetype": "text/x-python",
   "name": "python",
   "nbconvert_exporter": "python",
   "pygments_lexer": "ipython3",
   "version": "3.11.0"
  }
 },
 "nbformat": 4,
 "nbformat_minor": 5
}
