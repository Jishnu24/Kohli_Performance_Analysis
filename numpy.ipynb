{
 "cells": [
  {
   "cell_type": "code",
   "execution_count": 1,
   "id": "2d62f361-6c04-4a54-b599-b7b4bfe146af",
   "metadata": {},
   "outputs": [],
   "source": [
    "import numpy as np"
   ]
  },
  {
   "cell_type": "code",
   "execution_count": 2,
   "id": "18264a17-af7f-46c1-beb1-a16b42904f72",
   "metadata": {},
   "outputs": [
    {
     "name": "stdout",
     "output_type": "stream",
     "text": [
      "[2 4 5] <class 'numpy.ndarray'>\n"
     ]
    }
   ],
   "source": [
    "arr =  np.array([2,4,5])\n",
    "print(arr,type(arr))"
   ]
  },
  {
   "cell_type": "code",
   "execution_count": 3,
   "id": "87c605d7-a8a3-4332-801d-0ad4a66af318",
   "metadata": {},
   "outputs": [
    {
     "name": "stdout",
     "output_type": "stream",
     "text": [
      "Shape of the array :  (3,)\n"
     ]
    }
   ],
   "source": [
    "print(\"Shape of the array : \" ,arr.shape)\n"
   ]
  },
  {
   "cell_type": "code",
   "execution_count": 4,
   "id": "7e1d6565-6f75-4acb-a261-282151c7f259",
   "metadata": {},
   "outputs": [
    {
     "name": "stdout",
     "output_type": "stream",
     "text": [
      "[[1 2 3 4]\n",
      " [5 6 7 8]] <class 'numpy.ndarray'>\n",
      "shape off arr2 :  (2, 4)\n"
     ]
    }
   ],
   "source": [
    "arr2 = np.array([[1,2,3,4],[5,6,7,8]])\n",
    "print(arr2,type(arr2))\n",
    "print(\"shape off arr2 : \",arr2.shape)"
   ]
  },
  {
   "cell_type": "code",
   "execution_count": 5,
   "id": "348d1375-fcfc-42da-8722-284818311a6a",
   "metadata": {},
   "outputs": [
    {
     "data": {
      "text/plain": [
       "2"
      ]
     },
     "execution_count": 5,
     "metadata": {},
     "output_type": "execute_result"
    }
   ],
   "source": [
    "arr2[0,1]"
   ]
  },
  {
   "cell_type": "code",
   "execution_count": 6,
   "id": "2abdfc19-4a02-4766-a433-88719adc8784",
   "metadata": {},
   "outputs": [
    {
     "name": "stdout",
     "output_type": "stream",
     "text": [
      "[[[1 2 3]\n",
      "  [5 6 7]\n",
      "  [3 4 5]]\n",
      "\n",
      " [[1 2 3]\n",
      "  [5 6 7]\n",
      "  [3 4 5]]\n",
      "\n",
      " [[1 2 3]\n",
      "  [5 6 7]\n",
      "  [3 4 5]]]\n",
      "7\n"
     ]
    }
   ],
   "source": [
    "arr3D = np.array([\n",
    "    [\n",
    "        [1,2,3],\n",
    "        [5,6,7],\n",
    "        [3,4,5]\n",
    "    ],\n",
    "    [\n",
    "        [1,2,3],\n",
    "        [5,6,7],\n",
    "        [3,4,5]\n",
    "    ],\n",
    "    [\n",
    "        [1,2,3],\n",
    "        [5,6,7],\n",
    "        [3,4,5]\n",
    "    ]\n",
    "])\n",
    "\n",
    "print(arr3D)\n",
    "print(arr3D[0,1,2])"
   ]
  },
  {
   "cell_type": "code",
   "execution_count": 7,
   "id": "ed568144-18e9-4537-8b57-45f2b2f796fb",
   "metadata": {},
   "outputs": [
    {
     "name": "stdout",
     "output_type": "stream",
     "text": [
      "[[0. 0. 0. 0. 0.]\n",
      " [0. 0. 0. 0. 0.]\n",
      " [0. 0. 0. 0. 0.]\n",
      " [0. 0. 0. 0. 0.]]\n"
     ]
    }
   ],
   "source": [
    "zeros = np.zeros((4,5))\n",
    "print(zeros)"
   ]
  },
  {
   "cell_type": "code",
   "execution_count": 8,
   "id": "915151ea-9499-48b9-8100-638146d7a680",
   "metadata": {},
   "outputs": [
    {
     "name": "stdout",
     "output_type": "stream",
     "text": [
      "[1. 1. 1.]\n"
     ]
    }
   ],
   "source": [
    "ones = np.ones(3,)\n",
    "print(ones)"
   ]
  },
  {
   "cell_type": "code",
   "execution_count": 9,
   "id": "8b89fff4-53da-488a-86be-4ab76d4f246f",
   "metadata": {},
   "outputs": [
    {
     "name": "stdout",
     "output_type": "stream",
     "text": [
      "[[3 3 3]\n",
      " [3 3 3]\n",
      " [3 3 3]]\n"
     ]
    }
   ],
   "source": [
    "consts = np.full((3,3),3)\n",
    "print(consts)"
   ]
  },
  {
   "cell_type": "code",
   "execution_count": 10,
   "id": "407d1b2f-aea9-48b2-bdf0-c7050ebb088a",
   "metadata": {},
   "outputs": [
    {
     "data": {
      "text/plain": [
       "array([[0.89306526, 0.21903444, 0.41639378, 0.50748857],\n",
       "       [0.32954612, 0.88936502, 0.8757291 , 0.61614802],\n",
       "       [0.06332322, 0.21821317, 0.87547155, 0.74771898],\n",
       "       [0.3041213 , 0.39026836, 0.41261664, 0.67982659]])"
      ]
     },
     "execution_count": 10,
     "metadata": {},
     "output_type": "execute_result"
    }
   ],
   "source": [
    "rand = np.random.random((4,4))\n",
    "rand"
   ]
  },
  {
   "cell_type": "code",
   "execution_count": 11,
   "id": "ee8aeeab-db03-4d45-8d14-da3d8756263e",
   "metadata": {},
   "outputs": [
    {
     "data": {
      "text/plain": [
       "array([[2, 3, 4],\n",
       "       [5, 6, 7]])"
      ]
     },
     "execution_count": 11,
     "metadata": {},
     "output_type": "execute_result"
    }
   ],
   "source": [
    "ar = np.array([\n",
    "    [2,3,4],\n",
    "    [5,6,7],\n",
    "    [8,9,0]\n",
    "])\n",
    "\n",
    "ar[:2]\n",
    "#ar[:2,1:3]"
   ]
  },
  {
   "cell_type": "code",
   "execution_count": 12,
   "id": "4ceacf78-bde9-42d5-9b7a-6e1fdabe0f06",
   "metadata": {},
   "outputs": [
    {
     "data": {
      "text/plain": [
       "array([8, 9])"
      ]
     },
     "execution_count": 12,
     "metadata": {},
     "output_type": "execute_result"
    }
   ],
   "source": [
    "a = np.array([\n",
    "    [2,3,4,5],\n",
    "    [5,6,7,8],\n",
    "    [8,9,0,1]\n",
    "])\n",
    "a[2,0:2]#last row col1 col2"
   ]
  },
  {
   "cell_type": "code",
   "execution_count": 13,
   "id": "8d0287f1-1444-4e81-81bb-80dd3a71299b",
   "metadata": {},
   "outputs": [
    {
     "data": {
      "text/plain": [
       "array([5, 6, 7, 8])"
      ]
     },
     "execution_count": 13,
     "metadata": {},
     "output_type": "execute_result"
    }
   ],
   "source": [
    "a[1,:]#row 2"
   ]
  },
  {
   "cell_type": "code",
   "execution_count": 14,
   "id": "b0d6a9f8-0b04-4d93-8084-8742bd0a2263",
   "metadata": {},
   "outputs": [
    {
     "data": {
      "text/plain": [
       "array([[4],\n",
       "       [7],\n",
       "       [0]])"
      ]
     },
     "execution_count": 14,
     "metadata": {},
     "output_type": "execute_result"
    }
   ],
   "source": [
    "a[:,2:3]#third column"
   ]
  },
  {
   "cell_type": "code",
   "execution_count": 15,
   "id": "95bd065d-5238-4e27-b4cc-2a59b4059b8c",
   "metadata": {},
   "outputs": [
    {
     "data": {
      "text/plain": [
       "array([[2, 3],\n",
       "       [5, 6],\n",
       "       [8, 9]])"
      ]
     },
     "execution_count": 15,
     "metadata": {},
     "output_type": "execute_result"
    }
   ],
   "source": [
    "a[:,0:2]#extract col1 & col2"
   ]
  },
  {
   "cell_type": "code",
   "execution_count": 16,
   "id": "660e1cda-cc0c-460f-92c2-dd512320e43c",
   "metadata": {},
   "outputs": [
    {
     "data": {
      "text/plain": [
       "array([[2, 3, 4, 5],\n",
       "       [5, 6, 7, 8],\n",
       "       [8, 9, 0, 1]])"
      ]
     },
     "execution_count": 16,
     "metadata": {},
     "output_type": "execute_result"
    }
   ],
   "source": [
    "ab = np.array([\n",
    "    [2,3,4,5],\n",
    "    [5,6,7,8],\n",
    "    [8,9,0,1]\n",
    "])\n",
    "ab"
   ]
  },
  {
   "cell_type": "code",
   "execution_count": 17,
   "id": "0114ed4c-e9ae-4d3c-a89d-8ac3f81d39e5",
   "metadata": {},
   "outputs": [
    {
     "data": {
      "text/plain": [
       "[array([[False, False,  True,  True],\n",
       "        [ True,  True,  True,  True],\n",
       "        [ True,  True, False, False]])]"
      ]
     },
     "execution_count": 17,
     "metadata": {},
     "output_type": "execute_result"
    }
   ],
   "source": [
    "bool_idx = [ab>3]\n",
    "bool_idx"
   ]
  },
  {
   "cell_type": "code",
   "execution_count": 18,
   "id": "06fdfe74-8cc0-4254-b47b-2426d8950a4a",
   "metadata": {},
   "outputs": [
    {
     "data": {
      "text/plain": [
       "array([4, 5, 5, 6, 7, 8, 8, 9])"
      ]
     },
     "execution_count": 18,
     "metadata": {},
     "output_type": "execute_result"
    }
   ],
   "source": [
    "ab[ab>3]"
   ]
  },
  {
   "cell_type": "code",
   "execution_count": 19,
   "id": "99561189-4eb4-47e0-88c3-7fc1c92b4f99",
   "metadata": {},
   "outputs": [
    {
     "data": {
      "text/plain": [
       "array([[ 6,  8],\n",
       "       [10, 12]])"
      ]
     },
     "execution_count": 19,
     "metadata": {},
     "output_type": "execute_result"
    }
   ],
   "source": [
    "x =  np.array([\n",
    "    [1,2],\n",
    "    [3,4]\n",
    "])\n",
    "y =  np.array([\n",
    "    [5,6],\n",
    "    [7,8]\n",
    "])\n",
    "\n",
    "x+y"
   ]
  },
  {
   "cell_type": "code",
   "execution_count": 20,
   "id": "d97a89af-0cd6-4016-9b41-964d1f92246b",
   "metadata": {},
   "outputs": [
    {
     "data": {
      "text/plain": [
       "array([[ 6,  8],\n",
       "       [10, 12]])"
      ]
     },
     "execution_count": 20,
     "metadata": {},
     "output_type": "execute_result"
    }
   ],
   "source": [
    "np.add(x,y)"
   ]
  },
  {
   "cell_type": "code",
   "execution_count": 21,
   "id": "7f7bc4c7-2885-40f8-b854-22ccdb267492",
   "metadata": {},
   "outputs": [
    {
     "data": {
      "text/plain": [
       "array([[-4, -4],\n",
       "       [-4, -4]])"
      ]
     },
     "execution_count": 21,
     "metadata": {},
     "output_type": "execute_result"
    }
   ],
   "source": [
    "np.subtract(x,y)"
   ]
  },
  {
   "cell_type": "code",
   "execution_count": 22,
   "id": "d547f821-b58e-4942-9821-5650659e9f10",
   "metadata": {},
   "outputs": [
    {
     "data": {
      "text/plain": [
       "array([[ 5, 12],\n",
       "       [21, 32]])"
      ]
     },
     "execution_count": 22,
     "metadata": {},
     "output_type": "execute_result"
    }
   ],
   "source": [
    "np.multiply(x,y)"
   ]
  },
  {
   "cell_type": "code",
   "execution_count": 23,
   "id": "f3cf700a-fc4b-489a-bcd4-55d92a0ee42d",
   "metadata": {},
   "outputs": [
    {
     "data": {
      "text/plain": [
       "array([[0.2       , 0.33333333],\n",
       "       [0.42857143, 0.5       ]])"
      ]
     },
     "execution_count": 23,
     "metadata": {},
     "output_type": "execute_result"
    }
   ],
   "source": [
    "np.divide(x,y)"
   ]
  },
  {
   "cell_type": "code",
   "execution_count": 24,
   "id": "2c2d33f0-ccd7-4d68-b691-d05358855b98",
   "metadata": {},
   "outputs": [
    {
     "data": {
      "text/plain": [
       "array([[1.        , 1.41421356],\n",
       "       [1.73205081, 2.        ]])"
      ]
     },
     "execution_count": 24,
     "metadata": {},
     "output_type": "execute_result"
    }
   ],
   "source": [
    "np.sqrt(x)"
   ]
  },
  {
   "cell_type": "code",
   "execution_count": 25,
   "id": "2c160fb5-1a6f-477b-93ff-5df3f09abf4e",
   "metadata": {},
   "outputs": [
    {
     "name": "stdout",
     "output_type": "stream",
     "text": [
      "42\n"
     ]
    }
   ],
   "source": [
    "v= np.array([4,5])\n",
    "w = np.array([3,6])\n",
    "\n",
    "print(v.dot(w))"
   ]
  },
  {
   "cell_type": "code",
   "execution_count": 26,
   "id": "7509422e-ea1d-4c83-97f1-28853c8652a9",
   "metadata": {},
   "outputs": [
    {
     "data": {
      "text/plain": [
       "42"
      ]
     },
     "execution_count": 26,
     "metadata": {},
     "output_type": "execute_result"
    }
   ],
   "source": [
    "np.dot(v,w)"
   ]
  },
  {
   "cell_type": "code",
   "execution_count": 27,
   "id": "e2bbbf29-9629-4773-bfcd-58e88c3dbcee",
   "metadata": {},
   "outputs": [
    {
     "data": {
      "text/plain": [
       "array([[19, 22],\n",
       "       [43, 50]])"
      ]
     },
     "execution_count": 27,
     "metadata": {},
     "output_type": "execute_result"
    }
   ],
   "source": [
    "np.dot(x,y)#dot product"
   ]
  },
  {
   "cell_type": "code",
   "execution_count": 28,
   "id": "4dfc0a50-ef3a-48b0-b97f-ae326153794d",
   "metadata": {},
   "outputs": [
    {
     "data": {
      "text/plain": [
       "array([[1, 5],\n",
       "       [2, 6],\n",
       "       [3, 7],\n",
       "       [4, 8]])"
      ]
     },
     "execution_count": 28,
     "metadata": {},
     "output_type": "execute_result"
    }
   ],
   "source": [
    "arr2.T#transpose"
   ]
  },
  {
   "cell_type": "code",
   "execution_count": 29,
   "id": "a253da8e-812c-4778-b201-399413c7efca",
   "metadata": {},
   "outputs": [
    {
     "data": {
      "text/plain": [
       "36"
      ]
     },
     "execution_count": 29,
     "metadata": {},
     "output_type": "execute_result"
    }
   ],
   "source": [
    "np.sum(arr2)"
   ]
  },
  {
   "cell_type": "code",
   "execution_count": 30,
   "id": "25515549-2224-40b0-ba4b-d04784e13102",
   "metadata": {},
   "outputs": [
    {
     "data": {
      "text/plain": [
       "array([ 6,  8, 10, 12])"
      ]
     },
     "execution_count": 30,
     "metadata": {},
     "output_type": "execute_result"
    }
   ],
   "source": [
    "np.sum(arr2,axis=0)#sum of each col"
   ]
  },
  {
   "cell_type": "code",
   "execution_count": 31,
   "id": "d109e0ba-7cba-47ab-8c82-4376f1fa08b9",
   "metadata": {},
   "outputs": [
    {
     "data": {
      "text/plain": [
       "array([10, 26])"
      ]
     },
     "execution_count": 31,
     "metadata": {},
     "output_type": "execute_result"
    }
   ],
   "source": [
    "np.sum(arr2,axis=1)#sum of each row"
   ]
  },
  {
   "cell_type": "code",
   "execution_count": 32,
   "id": "2781b567-fb89-4b31-adc0-bf56f84e27d1",
   "metadata": {},
   "outputs": [
    {
     "data": {
      "text/plain": [
       "array([[   4128860,    6029375,    3801155],\n",
       "       [   5570652,    6619251,    7536754],\n",
       "       [1616510976,        525,    3604528]])"
      ]
     },
     "execution_count": 32,
     "metadata": {},
     "output_type": "execute_result"
    }
   ],
   "source": [
    "u = np.array([\n",
    "    [1,2,3],\n",
    "    [4,5,6],\n",
    "    [7,8,9]\n",
    "])\n",
    "\n",
    "s = np.array([1,0,1])\n",
    "\n",
    "t = np.empty_like(u)\n",
    "t"
   ]
  },
  {
   "cell_type": "code",
   "execution_count": 33,
   "id": "7aa07305-06e8-4751-8d69-0503f1e26b24",
   "metadata": {},
   "outputs": [
    {
     "data": {
      "text/plain": [
       "array([[ 2,  2,  4],\n",
       "       [ 5,  5,  7],\n",
       "       [ 8,  8, 10]])"
      ]
     },
     "execution_count": 33,
     "metadata": {},
     "output_type": "execute_result"
    }
   ],
   "source": [
    "for i in range(len(u)):#for loop approach to vector v in every coloumn\n",
    "    t[i,:] = u[i,:]+s\n",
    "t"
   ]
  },
  {
   "cell_type": "code",
   "execution_count": 34,
   "id": "e6bd74a0-f02b-4c62-89ff-8c5720502979",
   "metadata": {},
   "outputs": [
    {
     "name": "stdout",
     "output_type": "stream",
     "text": [
      "[[1 0 1]\n",
      " [1 0 1]\n",
      " [1 0 1]]\n"
     ]
    }
   ],
   "source": [
    "#mathematical approach\n",
    "stacked_v = np.tile(s,(3,1))\n",
    "print(stacked_v)"
   ]
  },
  {
   "cell_type": "code",
   "execution_count": 35,
   "id": "a3813ce4-f252-4186-aac7-2e69d69e1854",
   "metadata": {},
   "outputs": [
    {
     "data": {
      "text/plain": [
       "array([[ 2,  2,  4],\n",
       "       [ 5,  5,  7],\n",
       "       [ 8,  8, 10]])"
      ]
     },
     "execution_count": 35,
     "metadata": {},
     "output_type": "execute_result"
    }
   ],
   "source": [
    "u+stacked_v"
   ]
  },
  {
   "cell_type": "code",
   "execution_count": 36,
   "id": "3c62073a-70ea-44ea-9173-a62c9a71c877",
   "metadata": {},
   "outputs": [
    {
     "data": {
      "text/plain": [
       "array([[ 2,  2,  4],\n",
       "       [ 5,  5,  7],\n",
       "       [ 8,  8, 10]])"
      ]
     },
     "execution_count": 36,
     "metadata": {},
     "output_type": "execute_result"
    }
   ],
   "source": [
    "u+s"
   ]
  },
  {
   "cell_type": "code",
   "execution_count": 37,
   "id": "49f36bd3-8338-424f-bdbd-463c42e01699",
   "metadata": {},
   "outputs": [
    {
     "data": {
      "text/plain": [
       "array([[1, 2],\n",
       "       [3, 4],\n",
       "       [5, 6],\n",
       "       [7, 8]])"
      ]
     },
     "execution_count": 37,
     "metadata": {},
     "output_type": "execute_result"
    }
   ],
   "source": [
    "arr2.reshape((4,2))#reshape"
   ]
  },
  {
   "cell_type": "code",
   "execution_count": null,
   "id": "d4b119ac-d7d9-488c-b889-cfb291344f87",
   "metadata": {},
   "outputs": [],
   "source": []
  }
 ],
 "metadata": {
  "kernelspec": {
   "display_name": "Python 3 (ipykernel)",
   "language": "python",
   "name": "python3"
  },
  "language_info": {
   "codemirror_mode": {
    "name": "ipython",
    "version": 3
   },
   "file_extension": ".py",
   "mimetype": "text/x-python",
   "name": "python",
   "nbconvert_exporter": "python",
   "pygments_lexer": "ipython3",
   "version": "3.11.0"
  }
 },
 "nbformat": 4,
 "nbformat_minor": 5
}
